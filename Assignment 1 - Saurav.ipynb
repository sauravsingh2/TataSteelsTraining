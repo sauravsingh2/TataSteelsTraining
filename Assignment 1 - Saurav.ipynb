{
 "cells": [
  {
   "cell_type": "code",
   "execution_count": 2,
   "metadata": {},
   "outputs": [],
   "source": [
    "#use car sales data set for this assignment\n",
    "import pandas as pd\n",
    "\n",
    "df = pd.read_csv(\"D:\\OneDrive - Tata Steel Limited\\Desktop\\Analytics Training\\Car_sales.csv\")"
   ]
  },
  {
   "cell_type": "code",
   "execution_count": 7,
   "metadata": {},
   "outputs": [
    {
     "output_type": "execute_result",
     "data": {
      "text/plain": [
       "157"
      ]
     },
     "metadata": {},
     "execution_count": 7
    }
   ],
   "source": [
    "#print the number of rows from this data set\n",
    "\n",
    "df.shape[0]"
   ]
  },
  {
   "cell_type": "code",
   "execution_count": 17,
   "metadata": {},
   "outputs": [
    {
     "output_type": "stream",
     "name": "stdout",
     "text": [
      "0\n1\n2\n3\n4\n5\n6\n7\n8\n9\n10\n11\n12\n13\n14\n15\n16\n17\n18\n19\n20\n21\n22\n23\n24\n25\n26\n27\n28\n29\n30\n31\n32\n33\n34\n35\n36\n37\n38\n39\n40\n41\n42\n43\n44\n45\n46\n47\n48\n49\n50\n51\n52\n53\n54\n55\n56\n57\n58\n59\n60\n61\n62\n63\n64\n65\n66\n67\n68\n69\n70\n71\n72\n73\n74\n75\n76\n77\n78\n79\n80\n81\n82\n83\n84\n85\n86\n87\n88\n89\n90\n91\n92\n93\n94\n95\n96\n97\n98\n99\n100\n101\n102\n103\n104\n105\n106\n107\n108\n109\n110\n111\n112\n113\n114\n115\n116\n117\n118\n119\n120\n121\n122\n123\n124\n125\n126\n127\n128\n129\n130\n131\n132\n133\n134\n135\n136\n137\n138\n139\n140\n141\n142\n143\n144\n145\n146\n147\n148\n149\n150\n151\n152\n153\n154\n155\n156\n"
     ]
    }
   ],
   "source": [
    "#print the index of the data frame\n",
    "\n",
    "for index, row in df.iterrows():\n",
    "    print(index)"
   ]
  },
  {
   "cell_type": "code",
   "execution_count": 8,
   "metadata": {},
   "outputs": [
    {
     "output_type": "execute_result",
     "data": {
      "text/plain": [
       "16"
      ]
     },
     "metadata": {},
     "execution_count": 8
    }
   ],
   "source": [
    "#print the number of columns\n",
    "\n",
    "df.shape[1]"
   ]
  },
  {
   "cell_type": "code",
   "execution_count": 18,
   "metadata": {},
   "outputs": [
    {
     "output_type": "execute_result",
     "data": {
      "text/plain": [
       "array(['Acura', 'Audi', 'BMW', 'Buick', 'Cadillac', 'Chevrolet',\n",
       "       'Chrysler', 'Dodge', 'Ford', 'Honda', 'Hyundai', 'Infiniti',\n",
       "       'Jaguar', 'Jeep', 'Lexus', 'Lincoln', 'Mitsubishi', 'Mercury',\n",
       "       'Mercedes-B', 'Nissan', 'Oldsmobile', 'Plymouth', 'Pontiac',\n",
       "       'Porsche', 'Saab', 'Saturn', 'Subaru', 'Toyota', 'Volkswagen',\n",
       "       'Volvo'], dtype=object)"
      ]
     },
     "metadata": {},
     "execution_count": 18
    }
   ],
   "source": [
    "#Print a list of manufacturers in the data set\n",
    "\n",
    "df['Manufacturer'].unique()"
   ]
  },
  {
   "cell_type": "code",
   "execution_count": 22,
   "metadata": {},
   "outputs": [
    {
     "output_type": "execute_result",
     "data": {
      "text/plain": [
       "8320.698"
      ]
     },
     "metadata": {},
     "execution_count": 22
    }
   ],
   "source": [
    "#print the total of Sales_in_thousands column\n",
    "\n",
    "df[\"Sales_in_thousands\"].sum()"
   ]
  },
  {
   "cell_type": "code",
   "execution_count": 20,
   "metadata": {},
   "outputs": [
    {
     "output_type": "execute_result",
     "data": {
      "text/plain": [
       "  Manufacturer    Model  Sales_in_thousands  __year_resale_value Vehicle_type  \\\n",
       "0        Acura  Integra              16.919               16.360    Passenger   \n",
       "1        Acura       TL              39.384               19.875    Passenger   \n",
       "2        Acura       CL              14.114               18.225    Passenger   \n",
       "3        Acura       RL               8.588               29.725    Passenger   \n",
       "4         Audi       A4              20.397               22.255    Passenger   \n",
       "\n",
       "   Price_in_thousands  Engine_size  Horsepower  Wheelbase  Width  Length  \\\n",
       "0               21.50          1.8         1.0      101.2   67.3   172.4   \n",
       "1               28.40          3.2       225.0      108.1   70.3   192.9   \n",
       "2                 NaN          3.2       225.0      106.9   70.6   192.0   \n",
       "3               42.00          3.5       210.0      114.6   71.4   196.6   \n",
       "4               23.99          1.8       150.0      102.6   68.2   178.0   \n",
       "\n",
       "   Curb_weight  Fuel_capacity  Fuel_efficiency Latest_Launch  \\\n",
       "0        2.639           13.2             28.0      2/2/2012   \n",
       "1        3.517           17.2             25.0      6/3/2011   \n",
       "2        3.470           17.2             26.0      1/4/2012   \n",
       "3        3.850           18.0             22.0     3/10/2011   \n",
       "4        2.998           16.4             27.0     10/8/2011   \n",
       "\n",
       "   Power_perf_factor  \n",
       "0          58.280150  \n",
       "1          91.370778  \n",
       "2                NaN  \n",
       "3          91.389779  \n",
       "4          62.777639  "
      ],
      "text/html": "<div>\n<style scoped>\n    .dataframe tbody tr th:only-of-type {\n        vertical-align: middle;\n    }\n\n    .dataframe tbody tr th {\n        vertical-align: top;\n    }\n\n    .dataframe thead th {\n        text-align: right;\n    }\n</style>\n<table border=\"1\" class=\"dataframe\">\n  <thead>\n    <tr style=\"text-align: right;\">\n      <th></th>\n      <th>Manufacturer</th>\n      <th>Model</th>\n      <th>Sales_in_thousands</th>\n      <th>__year_resale_value</th>\n      <th>Vehicle_type</th>\n      <th>Price_in_thousands</th>\n      <th>Engine_size</th>\n      <th>Horsepower</th>\n      <th>Wheelbase</th>\n      <th>Width</th>\n      <th>Length</th>\n      <th>Curb_weight</th>\n      <th>Fuel_capacity</th>\n      <th>Fuel_efficiency</th>\n      <th>Latest_Launch</th>\n      <th>Power_perf_factor</th>\n    </tr>\n  </thead>\n  <tbody>\n    <tr>\n      <th>0</th>\n      <td>Acura</td>\n      <td>Integra</td>\n      <td>16.919</td>\n      <td>16.360</td>\n      <td>Passenger</td>\n      <td>21.50</td>\n      <td>1.8</td>\n      <td>1.0</td>\n      <td>101.2</td>\n      <td>67.3</td>\n      <td>172.4</td>\n      <td>2.639</td>\n      <td>13.2</td>\n      <td>28.0</td>\n      <td>2/2/2012</td>\n      <td>58.280150</td>\n    </tr>\n    <tr>\n      <th>1</th>\n      <td>Acura</td>\n      <td>TL</td>\n      <td>39.384</td>\n      <td>19.875</td>\n      <td>Passenger</td>\n      <td>28.40</td>\n      <td>3.2</td>\n      <td>225.0</td>\n      <td>108.1</td>\n      <td>70.3</td>\n      <td>192.9</td>\n      <td>3.517</td>\n      <td>17.2</td>\n      <td>25.0</td>\n      <td>6/3/2011</td>\n      <td>91.370778</td>\n    </tr>\n    <tr>\n      <th>2</th>\n      <td>Acura</td>\n      <td>CL</td>\n      <td>14.114</td>\n      <td>18.225</td>\n      <td>Passenger</td>\n      <td>NaN</td>\n      <td>3.2</td>\n      <td>225.0</td>\n      <td>106.9</td>\n      <td>70.6</td>\n      <td>192.0</td>\n      <td>3.470</td>\n      <td>17.2</td>\n      <td>26.0</td>\n      <td>1/4/2012</td>\n      <td>NaN</td>\n    </tr>\n    <tr>\n      <th>3</th>\n      <td>Acura</td>\n      <td>RL</td>\n      <td>8.588</td>\n      <td>29.725</td>\n      <td>Passenger</td>\n      <td>42.00</td>\n      <td>3.5</td>\n      <td>210.0</td>\n      <td>114.6</td>\n      <td>71.4</td>\n      <td>196.6</td>\n      <td>3.850</td>\n      <td>18.0</td>\n      <td>22.0</td>\n      <td>3/10/2011</td>\n      <td>91.389779</td>\n    </tr>\n    <tr>\n      <th>4</th>\n      <td>Audi</td>\n      <td>A4</td>\n      <td>20.397</td>\n      <td>22.255</td>\n      <td>Passenger</td>\n      <td>23.99</td>\n      <td>1.8</td>\n      <td>150.0</td>\n      <td>102.6</td>\n      <td>68.2</td>\n      <td>178.0</td>\n      <td>2.998</td>\n      <td>16.4</td>\n      <td>27.0</td>\n      <td>10/8/2011</td>\n      <td>62.777639</td>\n    </tr>\n  </tbody>\n</table>\n</div>"
     },
     "metadata": {},
     "execution_count": 20
    }
   ],
   "source": [
    "df.head(5)"
   ]
  },
  {
   "cell_type": "code",
   "execution_count": 35,
   "metadata": {},
   "outputs": [
    {
     "output_type": "execute_result",
     "data": {
      "text/plain": [
       "              Price_in_thousands\n",
       "Vehicle_type                    \n",
       "Car                       60.105\n",
       "Passenger                 85.500"
      ],
      "text/html": "<div>\n<style scoped>\n    .dataframe tbody tr th:only-of-type {\n        vertical-align: middle;\n    }\n\n    .dataframe tbody tr th {\n        vertical-align: top;\n    }\n\n    .dataframe thead th {\n        text-align: right;\n    }\n</style>\n<table border=\"1\" class=\"dataframe\">\n  <thead>\n    <tr style=\"text-align: right;\">\n      <th></th>\n      <th>Price_in_thousands</th>\n    </tr>\n    <tr>\n      <th>Vehicle_type</th>\n      <th></th>\n    </tr>\n  </thead>\n  <tbody>\n    <tr>\n      <th>Car</th>\n      <td>60.105</td>\n    </tr>\n    <tr>\n      <th>Passenger</th>\n      <td>85.500</td>\n    </tr>\n  </tbody>\n</table>\n</div>"
     },
     "metadata": {},
     "execution_count": 35
    }
   ],
   "source": [
    "#show the maximum price of car in all categories of Vehicle_type \n",
    "\n",
    "df.groupby([\"Vehicle_type\"])[[\"Price_in_thousands\"]].max()\n",
    "\n",
    "# df[[\"Price_in_thousands\",\"Model\"]].max()"
   ]
  },
  {
   "cell_type": "code",
   "execution_count": 43,
   "metadata": {},
   "outputs": [
    {
     "output_type": "execute_result",
     "data": {
      "text/plain": [
       "Horsepower     450.0\n",
       "Model         Xterra\n",
       "dtype: object"
      ]
     },
     "metadata": {},
     "execution_count": 43
    }
   ],
   "source": [
    "#print the model whose horsepower is the maximum\n",
    "df[[\"Horsepower\",\"Model\"]].max()\n",
    "\n",
    "# df.groupby([\"Model\"])[[\"Horsepower\"]].max()"
   ]
  },
  {
   "cell_type": "code",
   "execution_count": 53,
   "metadata": {},
   "outputs": [
    {
     "output_type": "execute_result",
     "data": {
      "text/plain": [
       "  Manufacturer    Model  Sales_in_thousands  __year_resale_value Vehicle_type  \\\n",
       "0        Acura  Integra              16.919               16.360    Passenger   \n",
       "1        Acura       TL              39.384               19.875    Passenger   \n",
       "2        Acura       CL              14.114               18.225    Passenger   \n",
       "3        Acura       RL               8.588               29.725    Passenger   \n",
       "4         Audi       A4              20.397               22.255    Passenger   \n",
       "\n",
       "   Price_in_thousands  Engine_size  Horsepower  Wheelbase  Width  Length  \\\n",
       "0               21.50          1.8         1.0      101.2   67.3   172.4   \n",
       "1               28.40          3.2       225.0      108.1   70.3   192.9   \n",
       "2                 NaN          3.2       225.0      106.9   70.6   192.0   \n",
       "3               42.00          3.5       210.0      114.6   71.4   196.6   \n",
       "4               23.99          1.8       150.0      102.6   68.2   178.0   \n",
       "\n",
       "   Curb_weight  Fuel_capacity  Fuel_efficiency Latest_Launch  \\\n",
       "0        2.639           13.2             28.0      2/2/2012   \n",
       "1        3.517           17.2             25.0      6/3/2011   \n",
       "2        3.470           17.2             26.0      1/4/2012   \n",
       "3        3.850           18.0             22.0     3/10/2011   \n",
       "4        2.998           16.4             27.0     10/8/2011   \n",
       "\n",
       "   Power_perf_factor  Year of Launch  \n",
       "0          58.280150            2012  \n",
       "1          91.370778            2011  \n",
       "2                NaN            2012  \n",
       "3          91.389779            2011  \n",
       "4          62.777639            2011  "
      ],
      "text/html": "<div>\n<style scoped>\n    .dataframe tbody tr th:only-of-type {\n        vertical-align: middle;\n    }\n\n    .dataframe tbody tr th {\n        vertical-align: top;\n    }\n\n    .dataframe thead th {\n        text-align: right;\n    }\n</style>\n<table border=\"1\" class=\"dataframe\">\n  <thead>\n    <tr style=\"text-align: right;\">\n      <th></th>\n      <th>Manufacturer</th>\n      <th>Model</th>\n      <th>Sales_in_thousands</th>\n      <th>__year_resale_value</th>\n      <th>Vehicle_type</th>\n      <th>Price_in_thousands</th>\n      <th>Engine_size</th>\n      <th>Horsepower</th>\n      <th>Wheelbase</th>\n      <th>Width</th>\n      <th>Length</th>\n      <th>Curb_weight</th>\n      <th>Fuel_capacity</th>\n      <th>Fuel_efficiency</th>\n      <th>Latest_Launch</th>\n      <th>Power_perf_factor</th>\n      <th>Year of Launch</th>\n    </tr>\n  </thead>\n  <tbody>\n    <tr>\n      <th>0</th>\n      <td>Acura</td>\n      <td>Integra</td>\n      <td>16.919</td>\n      <td>16.360</td>\n      <td>Passenger</td>\n      <td>21.50</td>\n      <td>1.8</td>\n      <td>1.0</td>\n      <td>101.2</td>\n      <td>67.3</td>\n      <td>172.4</td>\n      <td>2.639</td>\n      <td>13.2</td>\n      <td>28.0</td>\n      <td>2/2/2012</td>\n      <td>58.280150</td>\n      <td>2012</td>\n    </tr>\n    <tr>\n      <th>1</th>\n      <td>Acura</td>\n      <td>TL</td>\n      <td>39.384</td>\n      <td>19.875</td>\n      <td>Passenger</td>\n      <td>28.40</td>\n      <td>3.2</td>\n      <td>225.0</td>\n      <td>108.1</td>\n      <td>70.3</td>\n      <td>192.9</td>\n      <td>3.517</td>\n      <td>17.2</td>\n      <td>25.0</td>\n      <td>6/3/2011</td>\n      <td>91.370778</td>\n      <td>2011</td>\n    </tr>\n    <tr>\n      <th>2</th>\n      <td>Acura</td>\n      <td>CL</td>\n      <td>14.114</td>\n      <td>18.225</td>\n      <td>Passenger</td>\n      <td>NaN</td>\n      <td>3.2</td>\n      <td>225.0</td>\n      <td>106.9</td>\n      <td>70.6</td>\n      <td>192.0</td>\n      <td>3.470</td>\n      <td>17.2</td>\n      <td>26.0</td>\n      <td>1/4/2012</td>\n      <td>NaN</td>\n      <td>2012</td>\n    </tr>\n    <tr>\n      <th>3</th>\n      <td>Acura</td>\n      <td>RL</td>\n      <td>8.588</td>\n      <td>29.725</td>\n      <td>Passenger</td>\n      <td>42.00</td>\n      <td>3.5</td>\n      <td>210.0</td>\n      <td>114.6</td>\n      <td>71.4</td>\n      <td>196.6</td>\n      <td>3.850</td>\n      <td>18.0</td>\n      <td>22.0</td>\n      <td>3/10/2011</td>\n      <td>91.389779</td>\n      <td>2011</td>\n    </tr>\n    <tr>\n      <th>4</th>\n      <td>Audi</td>\n      <td>A4</td>\n      <td>20.397</td>\n      <td>22.255</td>\n      <td>Passenger</td>\n      <td>23.99</td>\n      <td>1.8</td>\n      <td>150.0</td>\n      <td>102.6</td>\n      <td>68.2</td>\n      <td>178.0</td>\n      <td>2.998</td>\n      <td>16.4</td>\n      <td>27.0</td>\n      <td>10/8/2011</td>\n      <td>62.777639</td>\n      <td>2011</td>\n    </tr>\n  </tbody>\n</table>\n</div>"
     },
     "metadata": {},
     "execution_count": 53
    }
   ],
   "source": [
    "#drop column with the highest number of NA. DON'T make the change permanent\n",
    "\n",
    "# df.head(5)\n",
    "\n",
    "df_filtered = df"
   ]
  },
  {
   "cell_type": "code",
   "execution_count": 50,
   "metadata": {},
   "outputs": [
    {
     "output_type": "execute_result",
     "data": {
      "text/plain": [
       "Manufacturer            Volvo\n",
       "Sales_in_thousands    540.561\n",
       "dtype: object"
      ]
     },
     "metadata": {},
     "execution_count": 50
    }
   ],
   "source": [
    "#show the name of manufacture whose sales were highest\n",
    "\n",
    "# df.groupby([\"Manufacturer\"])[[\"Sales_in_thousands\"]].sum()\n",
    "\n",
    "df[[\"Manufacturer\",\"Sales_in_thousands\"]].max()"
   ]
  },
  {
   "cell_type": "code",
   "execution_count": 57,
   "metadata": {},
   "outputs": [
    {
     "output_type": "execute_result",
     "data": {
      "text/plain": [
       "    Manufacturer Model  Sales_in_thousands  __year_resale_value Vehicle_type  \\\n",
       "1          Acura    TL              39.384               19.875    Passenger   \n",
       "3          Acura    RL               8.588               29.725    Passenger   \n",
       "4           Audi    A4              20.397               22.255    Passenger   \n",
       "5           Audi    A6              18.780               23.555    Passenger   \n",
       "7            BMW  323i              19.747                  NaN    Passenger   \n",
       "..           ...   ...                 ...                  ...          ...   \n",
       "151        Volvo   S40              16.957                  NaN    Passenger   \n",
       "152        Volvo   V40               3.545                  NaN    Passenger   \n",
       "154        Volvo   V70              17.531                  NaN    Passenger   \n",
       "155        Volvo   C70               3.493                  NaN    Passenger   \n",
       "156        Volvo   S80              18.969                  NaN    Passenger   \n",
       "\n",
       "     Price_in_thousands  Engine_size  Horsepower  Wheelbase  Width  Length  \\\n",
       "1                 28.40          3.2       225.0      108.1   70.3   192.9   \n",
       "3                 42.00          3.5       210.0      114.6   71.4   196.6   \n",
       "4                 23.99          1.8       150.0      102.6   68.2   178.0   \n",
       "5                 33.95          2.8       200.0      108.7   76.1   192.0   \n",
       "7                 26.99          2.5       170.0      107.3   68.4   176.0   \n",
       "..                  ...          ...         ...        ...    ...     ...   \n",
       "151               23.40          1.9       160.0      100.5   67.6   176.6   \n",
       "152               24.40          1.9       160.0      100.5   67.6   176.6   \n",
       "154               28.80          2.4       168.0      104.9   69.3   186.2   \n",
       "155               45.50          2.3       236.0      104.9   71.5   185.7   \n",
       "156               36.00          2.9       201.0      109.9   72.1   189.8   \n",
       "\n",
       "     Curb_weight  Fuel_capacity  Fuel_efficiency Latest_Launch  \\\n",
       "1          3.517           17.2             25.0      6/3/2011   \n",
       "3          3.850           18.0             22.0     3/10/2011   \n",
       "4          2.998           16.4             27.0     10/8/2011   \n",
       "5          3.561           18.5             22.0      8/9/2011   \n",
       "7          3.179           16.6             26.0     6/28/2011   \n",
       "..           ...            ...              ...           ...   \n",
       "151        2.998           15.8             25.0     2/18/2011   \n",
       "152        3.042           15.8             25.0     9/21/2011   \n",
       "154        3.259           17.9             25.0     6/25/2011   \n",
       "155        3.601           18.5             23.0     4/26/2011   \n",
       "156        3.600           21.1             24.0    11/14/2011   \n",
       "\n",
       "     Power_perf_factor  Year of Launch  \n",
       "1            91.370778            2011  \n",
       "3            91.389779            2011  \n",
       "4            62.777639            2011  \n",
       "5            84.565105            2011  \n",
       "7            71.191207            2011  \n",
       "..                 ...             ...  \n",
       "151          66.113057            2011  \n",
       "152          66.498812            2011  \n",
       "154          71.155978            2011  \n",
       "155         101.623357            2011  \n",
       "156          85.735655            2011  \n",
       "\n",
       "[79 rows x 17 columns]"
      ],
      "text/html": "<div>\n<style scoped>\n    .dataframe tbody tr th:only-of-type {\n        vertical-align: middle;\n    }\n\n    .dataframe tbody tr th {\n        vertical-align: top;\n    }\n\n    .dataframe thead th {\n        text-align: right;\n    }\n</style>\n<table border=\"1\" class=\"dataframe\">\n  <thead>\n    <tr style=\"text-align: right;\">\n      <th></th>\n      <th>Manufacturer</th>\n      <th>Model</th>\n      <th>Sales_in_thousands</th>\n      <th>__year_resale_value</th>\n      <th>Vehicle_type</th>\n      <th>Price_in_thousands</th>\n      <th>Engine_size</th>\n      <th>Horsepower</th>\n      <th>Wheelbase</th>\n      <th>Width</th>\n      <th>Length</th>\n      <th>Curb_weight</th>\n      <th>Fuel_capacity</th>\n      <th>Fuel_efficiency</th>\n      <th>Latest_Launch</th>\n      <th>Power_perf_factor</th>\n      <th>Year of Launch</th>\n    </tr>\n  </thead>\n  <tbody>\n    <tr>\n      <th>1</th>\n      <td>Acura</td>\n      <td>TL</td>\n      <td>39.384</td>\n      <td>19.875</td>\n      <td>Passenger</td>\n      <td>28.40</td>\n      <td>3.2</td>\n      <td>225.0</td>\n      <td>108.1</td>\n      <td>70.3</td>\n      <td>192.9</td>\n      <td>3.517</td>\n      <td>17.2</td>\n      <td>25.0</td>\n      <td>6/3/2011</td>\n      <td>91.370778</td>\n      <td>2011</td>\n    </tr>\n    <tr>\n      <th>3</th>\n      <td>Acura</td>\n      <td>RL</td>\n      <td>8.588</td>\n      <td>29.725</td>\n      <td>Passenger</td>\n      <td>42.00</td>\n      <td>3.5</td>\n      <td>210.0</td>\n      <td>114.6</td>\n      <td>71.4</td>\n      <td>196.6</td>\n      <td>3.850</td>\n      <td>18.0</td>\n      <td>22.0</td>\n      <td>3/10/2011</td>\n      <td>91.389779</td>\n      <td>2011</td>\n    </tr>\n    <tr>\n      <th>4</th>\n      <td>Audi</td>\n      <td>A4</td>\n      <td>20.397</td>\n      <td>22.255</td>\n      <td>Passenger</td>\n      <td>23.99</td>\n      <td>1.8</td>\n      <td>150.0</td>\n      <td>102.6</td>\n      <td>68.2</td>\n      <td>178.0</td>\n      <td>2.998</td>\n      <td>16.4</td>\n      <td>27.0</td>\n      <td>10/8/2011</td>\n      <td>62.777639</td>\n      <td>2011</td>\n    </tr>\n    <tr>\n      <th>5</th>\n      <td>Audi</td>\n      <td>A6</td>\n      <td>18.780</td>\n      <td>23.555</td>\n      <td>Passenger</td>\n      <td>33.95</td>\n      <td>2.8</td>\n      <td>200.0</td>\n      <td>108.7</td>\n      <td>76.1</td>\n      <td>192.0</td>\n      <td>3.561</td>\n      <td>18.5</td>\n      <td>22.0</td>\n      <td>8/9/2011</td>\n      <td>84.565105</td>\n      <td>2011</td>\n    </tr>\n    <tr>\n      <th>7</th>\n      <td>BMW</td>\n      <td>323i</td>\n      <td>19.747</td>\n      <td>NaN</td>\n      <td>Passenger</td>\n      <td>26.99</td>\n      <td>2.5</td>\n      <td>170.0</td>\n      <td>107.3</td>\n      <td>68.4</td>\n      <td>176.0</td>\n      <td>3.179</td>\n      <td>16.6</td>\n      <td>26.0</td>\n      <td>6/28/2011</td>\n      <td>71.191207</td>\n      <td>2011</td>\n    </tr>\n    <tr>\n      <th>...</th>\n      <td>...</td>\n      <td>...</td>\n      <td>...</td>\n      <td>...</td>\n      <td>...</td>\n      <td>...</td>\n      <td>...</td>\n      <td>...</td>\n      <td>...</td>\n      <td>...</td>\n      <td>...</td>\n      <td>...</td>\n      <td>...</td>\n      <td>...</td>\n      <td>...</td>\n      <td>...</td>\n      <td>...</td>\n    </tr>\n    <tr>\n      <th>151</th>\n      <td>Volvo</td>\n      <td>S40</td>\n      <td>16.957</td>\n      <td>NaN</td>\n      <td>Passenger</td>\n      <td>23.40</td>\n      <td>1.9</td>\n      <td>160.0</td>\n      <td>100.5</td>\n      <td>67.6</td>\n      <td>176.6</td>\n      <td>2.998</td>\n      <td>15.8</td>\n      <td>25.0</td>\n      <td>2/18/2011</td>\n      <td>66.113057</td>\n      <td>2011</td>\n    </tr>\n    <tr>\n      <th>152</th>\n      <td>Volvo</td>\n      <td>V40</td>\n      <td>3.545</td>\n      <td>NaN</td>\n      <td>Passenger</td>\n      <td>24.40</td>\n      <td>1.9</td>\n      <td>160.0</td>\n      <td>100.5</td>\n      <td>67.6</td>\n      <td>176.6</td>\n      <td>3.042</td>\n      <td>15.8</td>\n      <td>25.0</td>\n      <td>9/21/2011</td>\n      <td>66.498812</td>\n      <td>2011</td>\n    </tr>\n    <tr>\n      <th>154</th>\n      <td>Volvo</td>\n      <td>V70</td>\n      <td>17.531</td>\n      <td>NaN</td>\n      <td>Passenger</td>\n      <td>28.80</td>\n      <td>2.4</td>\n      <td>168.0</td>\n      <td>104.9</td>\n      <td>69.3</td>\n      <td>186.2</td>\n      <td>3.259</td>\n      <td>17.9</td>\n      <td>25.0</td>\n      <td>6/25/2011</td>\n      <td>71.155978</td>\n      <td>2011</td>\n    </tr>\n    <tr>\n      <th>155</th>\n      <td>Volvo</td>\n      <td>C70</td>\n      <td>3.493</td>\n      <td>NaN</td>\n      <td>Passenger</td>\n      <td>45.50</td>\n      <td>2.3</td>\n      <td>236.0</td>\n      <td>104.9</td>\n      <td>71.5</td>\n      <td>185.7</td>\n      <td>3.601</td>\n      <td>18.5</td>\n      <td>23.0</td>\n      <td>4/26/2011</td>\n      <td>101.623357</td>\n      <td>2011</td>\n    </tr>\n    <tr>\n      <th>156</th>\n      <td>Volvo</td>\n      <td>S80</td>\n      <td>18.969</td>\n      <td>NaN</td>\n      <td>Passenger</td>\n      <td>36.00</td>\n      <td>2.9</td>\n      <td>201.0</td>\n      <td>109.9</td>\n      <td>72.1</td>\n      <td>189.8</td>\n      <td>3.600</td>\n      <td>21.1</td>\n      <td>24.0</td>\n      <td>11/14/2011</td>\n      <td>85.735655</td>\n      <td>2011</td>\n    </tr>\n  </tbody>\n</table>\n<p>79 rows × 17 columns</p>\n</div>"
     },
     "metadata": {},
     "execution_count": 57
    }
   ],
   "source": [
    "#show data of cars whose latest launch was in 2011\n",
    "\n",
    "df['Year of Launch'] = pd.DatetimeIndex(df['Latest_Launch']).year\n",
    "\n",
    "df[df[\"Year of Launch\"]==2011]\n",
    "# df[[\"Manufacturer\",\"Sales_in_thousands\"]].max()"
   ]
  },
  {
   "cell_type": "code",
   "execution_count": 74,
   "metadata": {},
   "outputs": [
    {
     "output_type": "execute_result",
     "data": {
      "text/plain": [
       "    Manufacturer         Model  Sales_in_thousands  __year_resale_value  \\\n",
       "3          Acura            RL               8.588               29.725   \n",
       "5           Audi            A6              18.780               23.555   \n",
       "6           Audi            A8               1.380               39.000   \n",
       "8            BMW          328i               9.231               28.675   \n",
       "11         Buick         Regal              39.350               13.740   \n",
       "..           ...           ...                 ...                  ...   \n",
       "141       Toyota        Sienna              65.119                  NaN   \n",
       "143       Toyota       4Runner              68.411               19.425   \n",
       "144       Toyota  Land Cruiser               9.835               34.080   \n",
       "155        Volvo           C70               3.493                  NaN   \n",
       "156        Volvo           S80              18.969                  NaN   \n",
       "\n",
       "    Vehicle_type  Price_in_thousands  Engine_size  Horsepower  Wheelbase  \\\n",
       "3      Passenger              42.000          3.5       210.0      114.6   \n",
       "5      Passenger              33.950          2.8       200.0      108.7   \n",
       "6      Passenger              62.000          4.2       310.0      113.0   \n",
       "8      Passenger              33.400          2.8       193.0      107.3   \n",
       "11     Passenger              25.300          3.8       240.0      109.0   \n",
       "..           ...                 ...          ...         ...        ...   \n",
       "141          Car              22.368          3.0       194.0      114.2   \n",
       "143          Car              22.288          2.7       150.0      105.3   \n",
       "144          Car              51.728          4.7       230.0      112.2   \n",
       "155    Passenger              45.500          2.3       236.0      104.9   \n",
       "156    Passenger              36.000          2.9       201.0      109.9   \n",
       "\n",
       "     Width  Length  Curb_weight  Fuel_capacity  Fuel_efficiency Latest_Launch  \\\n",
       "3     71.4   196.6        3.850           18.0             22.0     3/10/2011   \n",
       "5     76.1   192.0        3.561           18.5             22.0      8/9/2011   \n",
       "6     74.0   198.2        3.902           23.7             21.0     2/27/2012   \n",
       "8     68.5   176.0        3.197           16.6             24.0     1/29/2012   \n",
       "11    72.7   196.2        3.543           17.5             23.0      9/3/2011   \n",
       "..     ...     ...          ...            ...              ...           ...   \n",
       "141   73.4   193.5        3.759           20.9             22.0     10/5/2012   \n",
       "143   66.5   183.3        3.440           18.5             23.0      3/7/2011   \n",
       "144   76.4   192.5        5.115           25.4             15.0     9/25/2011   \n",
       "155   71.5   185.7        3.601           18.5             23.0     4/26/2011   \n",
       "156   72.1   189.8        3.600           21.1             24.0    11/14/2011   \n",
       "\n",
       "     Power_perf_factor  Year of Launch  \n",
       "3            91.389779            2011  \n",
       "5            84.565105            2011  \n",
       "6           134.656858            2012  \n",
       "8            81.877069            2012  \n",
       "11           95.636703            2011  \n",
       "..                 ...             ...  \n",
       "141          78.027219            2012  \n",
       "143          62.355577            2011  \n",
       "144         102.528984            2011  \n",
       "155         101.623357            2011  \n",
       "156          85.735655            2011  \n",
       "\n",
       "[85 rows x 17 columns]"
      ],
      "text/html": "<div>\n<style scoped>\n    .dataframe tbody tr th:only-of-type {\n        vertical-align: middle;\n    }\n\n    .dataframe tbody tr th {\n        vertical-align: top;\n    }\n\n    .dataframe thead th {\n        text-align: right;\n    }\n</style>\n<table border=\"1\" class=\"dataframe\">\n  <thead>\n    <tr style=\"text-align: right;\">\n      <th></th>\n      <th>Manufacturer</th>\n      <th>Model</th>\n      <th>Sales_in_thousands</th>\n      <th>__year_resale_value</th>\n      <th>Vehicle_type</th>\n      <th>Price_in_thousands</th>\n      <th>Engine_size</th>\n      <th>Horsepower</th>\n      <th>Wheelbase</th>\n      <th>Width</th>\n      <th>Length</th>\n      <th>Curb_weight</th>\n      <th>Fuel_capacity</th>\n      <th>Fuel_efficiency</th>\n      <th>Latest_Launch</th>\n      <th>Power_perf_factor</th>\n      <th>Year of Launch</th>\n    </tr>\n  </thead>\n  <tbody>\n    <tr>\n      <th>3</th>\n      <td>Acura</td>\n      <td>RL</td>\n      <td>8.588</td>\n      <td>29.725</td>\n      <td>Passenger</td>\n      <td>42.000</td>\n      <td>3.5</td>\n      <td>210.0</td>\n      <td>114.6</td>\n      <td>71.4</td>\n      <td>196.6</td>\n      <td>3.850</td>\n      <td>18.0</td>\n      <td>22.0</td>\n      <td>3/10/2011</td>\n      <td>91.389779</td>\n      <td>2011</td>\n    </tr>\n    <tr>\n      <th>5</th>\n      <td>Audi</td>\n      <td>A6</td>\n      <td>18.780</td>\n      <td>23.555</td>\n      <td>Passenger</td>\n      <td>33.950</td>\n      <td>2.8</td>\n      <td>200.0</td>\n      <td>108.7</td>\n      <td>76.1</td>\n      <td>192.0</td>\n      <td>3.561</td>\n      <td>18.5</td>\n      <td>22.0</td>\n      <td>8/9/2011</td>\n      <td>84.565105</td>\n      <td>2011</td>\n    </tr>\n    <tr>\n      <th>6</th>\n      <td>Audi</td>\n      <td>A8</td>\n      <td>1.380</td>\n      <td>39.000</td>\n      <td>Passenger</td>\n      <td>62.000</td>\n      <td>4.2</td>\n      <td>310.0</td>\n      <td>113.0</td>\n      <td>74.0</td>\n      <td>198.2</td>\n      <td>3.902</td>\n      <td>23.7</td>\n      <td>21.0</td>\n      <td>2/27/2012</td>\n      <td>134.656858</td>\n      <td>2012</td>\n    </tr>\n    <tr>\n      <th>8</th>\n      <td>BMW</td>\n      <td>328i</td>\n      <td>9.231</td>\n      <td>28.675</td>\n      <td>Passenger</td>\n      <td>33.400</td>\n      <td>2.8</td>\n      <td>193.0</td>\n      <td>107.3</td>\n      <td>68.5</td>\n      <td>176.0</td>\n      <td>3.197</td>\n      <td>16.6</td>\n      <td>24.0</td>\n      <td>1/29/2012</td>\n      <td>81.877069</td>\n      <td>2012</td>\n    </tr>\n    <tr>\n      <th>11</th>\n      <td>Buick</td>\n      <td>Regal</td>\n      <td>39.350</td>\n      <td>13.740</td>\n      <td>Passenger</td>\n      <td>25.300</td>\n      <td>3.8</td>\n      <td>240.0</td>\n      <td>109.0</td>\n      <td>72.7</td>\n      <td>196.2</td>\n      <td>3.543</td>\n      <td>17.5</td>\n      <td>23.0</td>\n      <td>9/3/2011</td>\n      <td>95.636703</td>\n      <td>2011</td>\n    </tr>\n    <tr>\n      <th>...</th>\n      <td>...</td>\n      <td>...</td>\n      <td>...</td>\n      <td>...</td>\n      <td>...</td>\n      <td>...</td>\n      <td>...</td>\n      <td>...</td>\n      <td>...</td>\n      <td>...</td>\n      <td>...</td>\n      <td>...</td>\n      <td>...</td>\n      <td>...</td>\n      <td>...</td>\n      <td>...</td>\n      <td>...</td>\n    </tr>\n    <tr>\n      <th>141</th>\n      <td>Toyota</td>\n      <td>Sienna</td>\n      <td>65.119</td>\n      <td>NaN</td>\n      <td>Car</td>\n      <td>22.368</td>\n      <td>3.0</td>\n      <td>194.0</td>\n      <td>114.2</td>\n      <td>73.4</td>\n      <td>193.5</td>\n      <td>3.759</td>\n      <td>20.9</td>\n      <td>22.0</td>\n      <td>10/5/2012</td>\n      <td>78.027219</td>\n      <td>2012</td>\n    </tr>\n    <tr>\n      <th>143</th>\n      <td>Toyota</td>\n      <td>4Runner</td>\n      <td>68.411</td>\n      <td>19.425</td>\n      <td>Car</td>\n      <td>22.288</td>\n      <td>2.7</td>\n      <td>150.0</td>\n      <td>105.3</td>\n      <td>66.5</td>\n      <td>183.3</td>\n      <td>3.440</td>\n      <td>18.5</td>\n      <td>23.0</td>\n      <td>3/7/2011</td>\n      <td>62.355577</td>\n      <td>2011</td>\n    </tr>\n    <tr>\n      <th>144</th>\n      <td>Toyota</td>\n      <td>Land Cruiser</td>\n      <td>9.835</td>\n      <td>34.080</td>\n      <td>Car</td>\n      <td>51.728</td>\n      <td>4.7</td>\n      <td>230.0</td>\n      <td>112.2</td>\n      <td>76.4</td>\n      <td>192.5</td>\n      <td>5.115</td>\n      <td>25.4</td>\n      <td>15.0</td>\n      <td>9/25/2011</td>\n      <td>102.528984</td>\n      <td>2011</td>\n    </tr>\n    <tr>\n      <th>155</th>\n      <td>Volvo</td>\n      <td>C70</td>\n      <td>3.493</td>\n      <td>NaN</td>\n      <td>Passenger</td>\n      <td>45.500</td>\n      <td>2.3</td>\n      <td>236.0</td>\n      <td>104.9</td>\n      <td>71.5</td>\n      <td>185.7</td>\n      <td>3.601</td>\n      <td>18.5</td>\n      <td>23.0</td>\n      <td>4/26/2011</td>\n      <td>101.623357</td>\n      <td>2011</td>\n    </tr>\n    <tr>\n      <th>156</th>\n      <td>Volvo</td>\n      <td>S80</td>\n      <td>18.969</td>\n      <td>NaN</td>\n      <td>Passenger</td>\n      <td>36.000</td>\n      <td>2.9</td>\n      <td>201.0</td>\n      <td>109.9</td>\n      <td>72.1</td>\n      <td>189.8</td>\n      <td>3.600</td>\n      <td>21.1</td>\n      <td>24.0</td>\n      <td>11/14/2011</td>\n      <td>85.735655</td>\n      <td>2011</td>\n    </tr>\n  </tbody>\n</table>\n<p>85 rows × 17 columns</p>\n</div>"
     },
     "metadata": {},
     "execution_count": 74
    }
   ],
   "source": [
    "#show data of cars whose fuel efficiency was between 10 to 15\n",
    "cond = (df[\"Fuel_efficiency\"]>10.0) & (df[\"Fuel_efficiency\"] < 25.0)\n",
    "df[cond ]"
   ]
  },
  {
   "cell_type": "code",
   "execution_count": 76,
   "metadata": {},
   "outputs": [
    {
     "output_type": "execute_result",
     "data": {
      "text/plain": [
       "<AxesSubplot:xlabel='Vehicle_type', ylabel='count'>"
      ]
     },
     "metadata": {},
     "execution_count": 76
    },
    {
     "output_type": "display_data",
     "data": {
      "text/plain": "<Figure size 432x288 with 1 Axes>",
      "image/svg+xml": "<?xml version=\"1.0\" encoding=\"utf-8\" standalone=\"no\"?>\r\n<!DOCTYPE svg PUBLIC \"-//W3C//DTD SVG 1.1//EN\"\r\n  \"http://www.w3.org/Graphics/SVG/1.1/DTD/svg11.dtd\">\r\n<!-- Created with matplotlib (https://matplotlib.org/) -->\r\n<svg height=\"263.060195pt\" version=\"1.1\" viewBox=\"0 0 388.965625 263.060195\" width=\"388.965625pt\" xmlns=\"http://www.w3.org/2000/svg\" xmlns:xlink=\"http://www.w3.org/1999/xlink\">\r\n <metadata>\r\n  <rdf:RDF xmlns:cc=\"http://creativecommons.org/ns#\" xmlns:dc=\"http://purl.org/dc/elements/1.1/\" xmlns:rdf=\"http://www.w3.org/1999/02/22-rdf-syntax-ns#\">\r\n   <cc:Work>\r\n    <dc:type rdf:resource=\"http://purl.org/dc/dcmitype/StillImage\"/>\r\n    <dc:date>2021-03-26T09:19:41.627368</dc:date>\r\n    <dc:format>image/svg+xml</dc:format>\r\n    <dc:creator>\r\n     <cc:Agent>\r\n      <dc:title>Matplotlib v3.3.4, https://matplotlib.org/</dc:title>\r\n     </cc:Agent>\r\n    </dc:creator>\r\n   </cc:Work>\r\n  </rdf:RDF>\r\n </metadata>\r\n <defs>\r\n  <style type=\"text/css\">*{stroke-linecap:butt;stroke-linejoin:round;}</style>\r\n </defs>\r\n <g id=\"figure_1\">\r\n  <g id=\"patch_1\">\r\n   <path d=\"M -0 263.060195 \r\nL 388.965625 263.060195 \r\nL 388.965625 0 \r\nL -0 0 \r\nz\r\n\" style=\"fill:none;\"/>\r\n  </g>\r\n  <g id=\"axes_1\">\r\n   <g id=\"patch_2\">\r\n    <path d=\"M 46.965625 225.22582 \r\nL 381.765625 225.22582 \r\nL 381.765625 7.78582 \r\nL 46.965625 7.78582 \r\nz\r\n\" style=\"fill:#ffffff;\"/>\r\n   </g>\r\n   <g id=\"patch_3\">\r\n    <path clip-path=\"url(#pf5dcd5f69e)\" d=\"M 63.705625 225.22582 \r\nL 197.625625 225.22582 \r\nL 197.625625 18.140105 \r\nL 63.705625 18.140105 \r\nz\r\n\" style=\"fill:#3274a1;\"/>\r\n   </g>\r\n   <g id=\"patch_4\">\r\n    <path clip-path=\"url(#pf5dcd5f69e)\" d=\"M 231.105625 225.22582 \r\nL 365.025625 225.22582 \r\nL 365.025625 152.031731 \r\nL 231.105625 152.031731 \r\nz\r\n\" style=\"fill:#e1812c;\"/>\r\n   </g>\r\n   <g id=\"matplotlib.axis_1\">\r\n    <g id=\"xtick_1\">\r\n     <g id=\"line2d_1\">\r\n      <defs>\r\n       <path d=\"M 0 0 \r\nL 0 3.5 \r\n\" id=\"m3d170b819d\" style=\"stroke:#000000;stroke-width:0.8;\"/>\r\n      </defs>\r\n      <g>\r\n       <use style=\"stroke:#000000;stroke-width:0.8;\" x=\"130.665625\" xlink:href=\"#m3d170b819d\" y=\"225.22582\"/>\r\n      </g>\r\n     </g>\r\n     <g id=\"text_1\">\r\n      <!-- Passenger -->\r\n      <g transform=\"translate(105.050781 239.824257)scale(0.1 -0.1)\">\r\n       <defs>\r\n        <path d=\"M 19.671875 64.796875 \r\nL 19.671875 37.40625 \r\nL 32.078125 37.40625 \r\nQ 38.96875 37.40625 42.71875 40.96875 \r\nQ 46.484375 44.53125 46.484375 51.125 \r\nQ 46.484375 57.671875 42.71875 61.234375 \r\nQ 38.96875 64.796875 32.078125 64.796875 \r\nz\r\nM 9.8125 72.90625 \r\nL 32.078125 72.90625 \r\nQ 44.34375 72.90625 50.609375 67.359375 \r\nQ 56.890625 61.8125 56.890625 51.125 \r\nQ 56.890625 40.328125 50.609375 34.8125 \r\nQ 44.34375 29.296875 32.078125 29.296875 \r\nL 19.671875 29.296875 \r\nL 19.671875 0 \r\nL 9.8125 0 \r\nz\r\n\" id=\"DejaVuSans-80\"/>\r\n        <path d=\"M 34.28125 27.484375 \r\nQ 23.390625 27.484375 19.1875 25 \r\nQ 14.984375 22.515625 14.984375 16.5 \r\nQ 14.984375 11.71875 18.140625 8.90625 \r\nQ 21.296875 6.109375 26.703125 6.109375 \r\nQ 34.1875 6.109375 38.703125 11.40625 \r\nQ 43.21875 16.703125 43.21875 25.484375 \r\nL 43.21875 27.484375 \r\nz\r\nM 52.203125 31.203125 \r\nL 52.203125 0 \r\nL 43.21875 0 \r\nL 43.21875 8.296875 \r\nQ 40.140625 3.328125 35.546875 0.953125 \r\nQ 30.953125 -1.421875 24.3125 -1.421875 \r\nQ 15.921875 -1.421875 10.953125 3.296875 \r\nQ 6 8.015625 6 15.921875 \r\nQ 6 25.140625 12.171875 29.828125 \r\nQ 18.359375 34.515625 30.609375 34.515625 \r\nL 43.21875 34.515625 \r\nL 43.21875 35.40625 \r\nQ 43.21875 41.609375 39.140625 45 \r\nQ 35.0625 48.390625 27.6875 48.390625 \r\nQ 23 48.390625 18.546875 47.265625 \r\nQ 14.109375 46.140625 10.015625 43.890625 \r\nL 10.015625 52.203125 \r\nQ 14.9375 54.109375 19.578125 55.046875 \r\nQ 24.21875 56 28.609375 56 \r\nQ 40.484375 56 46.34375 49.84375 \r\nQ 52.203125 43.703125 52.203125 31.203125 \r\nz\r\n\" id=\"DejaVuSans-97\"/>\r\n        <path d=\"M 44.28125 53.078125 \r\nL 44.28125 44.578125 \r\nQ 40.484375 46.53125 36.375 47.5 \r\nQ 32.28125 48.484375 27.875 48.484375 \r\nQ 21.1875 48.484375 17.84375 46.4375 \r\nQ 14.5 44.390625 14.5 40.28125 \r\nQ 14.5 37.15625 16.890625 35.375 \r\nQ 19.28125 33.59375 26.515625 31.984375 \r\nL 29.59375 31.296875 \r\nQ 39.15625 29.25 43.1875 25.515625 \r\nQ 47.21875 21.78125 47.21875 15.09375 \r\nQ 47.21875 7.46875 41.1875 3.015625 \r\nQ 35.15625 -1.421875 24.609375 -1.421875 \r\nQ 20.21875 -1.421875 15.453125 -0.5625 \r\nQ 10.6875 0.296875 5.421875 2 \r\nL 5.421875 11.28125 \r\nQ 10.40625 8.6875 15.234375 7.390625 \r\nQ 20.0625 6.109375 24.8125 6.109375 \r\nQ 31.15625 6.109375 34.5625 8.28125 \r\nQ 37.984375 10.453125 37.984375 14.40625 \r\nQ 37.984375 18.0625 35.515625 20.015625 \r\nQ 33.0625 21.96875 24.703125 23.78125 \r\nL 21.578125 24.515625 \r\nQ 13.234375 26.265625 9.515625 29.90625 \r\nQ 5.8125 33.546875 5.8125 39.890625 \r\nQ 5.8125 47.609375 11.28125 51.796875 \r\nQ 16.75 56 26.8125 56 \r\nQ 31.78125 56 36.171875 55.265625 \r\nQ 40.578125 54.546875 44.28125 53.078125 \r\nz\r\n\" id=\"DejaVuSans-115\"/>\r\n        <path d=\"M 56.203125 29.59375 \r\nL 56.203125 25.203125 \r\nL 14.890625 25.203125 \r\nQ 15.484375 15.921875 20.484375 11.0625 \r\nQ 25.484375 6.203125 34.421875 6.203125 \r\nQ 39.59375 6.203125 44.453125 7.46875 \r\nQ 49.3125 8.734375 54.109375 11.28125 \r\nL 54.109375 2.78125 \r\nQ 49.265625 0.734375 44.1875 -0.34375 \r\nQ 39.109375 -1.421875 33.890625 -1.421875 \r\nQ 20.796875 -1.421875 13.15625 6.1875 \r\nQ 5.515625 13.8125 5.515625 26.8125 \r\nQ 5.515625 40.234375 12.765625 48.109375 \r\nQ 20.015625 56 32.328125 56 \r\nQ 43.359375 56 49.78125 48.890625 \r\nQ 56.203125 41.796875 56.203125 29.59375 \r\nz\r\nM 47.21875 32.234375 \r\nQ 47.125 39.59375 43.09375 43.984375 \r\nQ 39.0625 48.390625 32.421875 48.390625 \r\nQ 24.90625 48.390625 20.390625 44.140625 \r\nQ 15.875 39.890625 15.1875 32.171875 \r\nz\r\n\" id=\"DejaVuSans-101\"/>\r\n        <path d=\"M 54.890625 33.015625 \r\nL 54.890625 0 \r\nL 45.90625 0 \r\nL 45.90625 32.71875 \r\nQ 45.90625 40.484375 42.875 44.328125 \r\nQ 39.84375 48.1875 33.796875 48.1875 \r\nQ 26.515625 48.1875 22.3125 43.546875 \r\nQ 18.109375 38.921875 18.109375 30.90625 \r\nL 18.109375 0 \r\nL 9.078125 0 \r\nL 9.078125 54.6875 \r\nL 18.109375 54.6875 \r\nL 18.109375 46.1875 \r\nQ 21.34375 51.125 25.703125 53.5625 \r\nQ 30.078125 56 35.796875 56 \r\nQ 45.21875 56 50.046875 50.171875 \r\nQ 54.890625 44.34375 54.890625 33.015625 \r\nz\r\n\" id=\"DejaVuSans-110\"/>\r\n        <path d=\"M 45.40625 27.984375 \r\nQ 45.40625 37.75 41.375 43.109375 \r\nQ 37.359375 48.484375 30.078125 48.484375 \r\nQ 22.859375 48.484375 18.828125 43.109375 \r\nQ 14.796875 37.75 14.796875 27.984375 \r\nQ 14.796875 18.265625 18.828125 12.890625 \r\nQ 22.859375 7.515625 30.078125 7.515625 \r\nQ 37.359375 7.515625 41.375 12.890625 \r\nQ 45.40625 18.265625 45.40625 27.984375 \r\nz\r\nM 54.390625 6.78125 \r\nQ 54.390625 -7.171875 48.1875 -13.984375 \r\nQ 42 -20.796875 29.203125 -20.796875 \r\nQ 24.46875 -20.796875 20.265625 -20.09375 \r\nQ 16.0625 -19.390625 12.109375 -17.921875 \r\nL 12.109375 -9.1875 \r\nQ 16.0625 -11.328125 19.921875 -12.34375 \r\nQ 23.78125 -13.375 27.78125 -13.375 \r\nQ 36.625 -13.375 41.015625 -8.765625 \r\nQ 45.40625 -4.15625 45.40625 5.171875 \r\nL 45.40625 9.625 \r\nQ 42.625 4.78125 38.28125 2.390625 \r\nQ 33.9375 0 27.875 0 \r\nQ 17.828125 0 11.671875 7.65625 \r\nQ 5.515625 15.328125 5.515625 27.984375 \r\nQ 5.515625 40.671875 11.671875 48.328125 \r\nQ 17.828125 56 27.875 56 \r\nQ 33.9375 56 38.28125 53.609375 \r\nQ 42.625 51.21875 45.40625 46.390625 \r\nL 45.40625 54.6875 \r\nL 54.390625 54.6875 \r\nz\r\n\" id=\"DejaVuSans-103\"/>\r\n        <path d=\"M 41.109375 46.296875 \r\nQ 39.59375 47.171875 37.8125 47.578125 \r\nQ 36.03125 48 33.890625 48 \r\nQ 26.265625 48 22.1875 43.046875 \r\nQ 18.109375 38.09375 18.109375 28.8125 \r\nL 18.109375 0 \r\nL 9.078125 0 \r\nL 9.078125 54.6875 \r\nL 18.109375 54.6875 \r\nL 18.109375 46.1875 \r\nQ 20.953125 51.171875 25.484375 53.578125 \r\nQ 30.03125 56 36.53125 56 \r\nQ 37.453125 56 38.578125 55.875 \r\nQ 39.703125 55.765625 41.0625 55.515625 \r\nz\r\n\" id=\"DejaVuSans-114\"/>\r\n       </defs>\r\n       <use xlink:href=\"#DejaVuSans-80\"/>\r\n       <use x=\"55.802734\" xlink:href=\"#DejaVuSans-97\"/>\r\n       <use x=\"117.082031\" xlink:href=\"#DejaVuSans-115\"/>\r\n       <use x=\"169.181641\" xlink:href=\"#DejaVuSans-115\"/>\r\n       <use x=\"221.28125\" xlink:href=\"#DejaVuSans-101\"/>\r\n       <use x=\"282.804688\" xlink:href=\"#DejaVuSans-110\"/>\r\n       <use x=\"346.183594\" xlink:href=\"#DejaVuSans-103\"/>\r\n       <use x=\"409.660156\" xlink:href=\"#DejaVuSans-101\"/>\r\n       <use x=\"471.183594\" xlink:href=\"#DejaVuSans-114\"/>\r\n      </g>\r\n     </g>\r\n    </g>\r\n    <g id=\"xtick_2\">\r\n     <g id=\"line2d_2\">\r\n      <g>\r\n       <use style=\"stroke:#000000;stroke-width:0.8;\" x=\"298.065625\" xlink:href=\"#m3d170b819d\" y=\"225.22582\"/>\r\n      </g>\r\n     </g>\r\n     <g id=\"text_2\">\r\n      <!-- Car -->\r\n      <g transform=\"translate(289.454688 239.824257)scale(0.1 -0.1)\">\r\n       <defs>\r\n        <path d=\"M 64.40625 67.28125 \r\nL 64.40625 56.890625 \r\nQ 59.421875 61.53125 53.78125 63.8125 \r\nQ 48.140625 66.109375 41.796875 66.109375 \r\nQ 29.296875 66.109375 22.65625 58.46875 \r\nQ 16.015625 50.828125 16.015625 36.375 \r\nQ 16.015625 21.96875 22.65625 14.328125 \r\nQ 29.296875 6.6875 41.796875 6.6875 \r\nQ 48.140625 6.6875 53.78125 8.984375 \r\nQ 59.421875 11.28125 64.40625 15.921875 \r\nL 64.40625 5.609375 \r\nQ 59.234375 2.09375 53.4375 0.328125 \r\nQ 47.65625 -1.421875 41.21875 -1.421875 \r\nQ 24.65625 -1.421875 15.125 8.703125 \r\nQ 5.609375 18.84375 5.609375 36.375 \r\nQ 5.609375 53.953125 15.125 64.078125 \r\nQ 24.65625 74.21875 41.21875 74.21875 \r\nQ 47.75 74.21875 53.53125 72.484375 \r\nQ 59.328125 70.75 64.40625 67.28125 \r\nz\r\n\" id=\"DejaVuSans-67\"/>\r\n       </defs>\r\n       <use xlink:href=\"#DejaVuSans-67\"/>\r\n       <use x=\"69.824219\" xlink:href=\"#DejaVuSans-97\"/>\r\n       <use x=\"131.103516\" xlink:href=\"#DejaVuSans-114\"/>\r\n      </g>\r\n     </g>\r\n    </g>\r\n    <g id=\"text_3\">\r\n     <!-- Vehicle_type -->\r\n     <g transform=\"translate(182.813281 253.502382)scale(0.1 -0.1)\">\r\n      <defs>\r\n       <path d=\"M 28.609375 0 \r\nL 0.78125 72.90625 \r\nL 11.078125 72.90625 \r\nL 34.1875 11.53125 \r\nL 57.328125 72.90625 \r\nL 67.578125 72.90625 \r\nL 39.796875 0 \r\nz\r\n\" id=\"DejaVuSans-86\"/>\r\n       <path d=\"M 54.890625 33.015625 \r\nL 54.890625 0 \r\nL 45.90625 0 \r\nL 45.90625 32.71875 \r\nQ 45.90625 40.484375 42.875 44.328125 \r\nQ 39.84375 48.1875 33.796875 48.1875 \r\nQ 26.515625 48.1875 22.3125 43.546875 \r\nQ 18.109375 38.921875 18.109375 30.90625 \r\nL 18.109375 0 \r\nL 9.078125 0 \r\nL 9.078125 75.984375 \r\nL 18.109375 75.984375 \r\nL 18.109375 46.1875 \r\nQ 21.34375 51.125 25.703125 53.5625 \r\nQ 30.078125 56 35.796875 56 \r\nQ 45.21875 56 50.046875 50.171875 \r\nQ 54.890625 44.34375 54.890625 33.015625 \r\nz\r\n\" id=\"DejaVuSans-104\"/>\r\n       <path d=\"M 9.421875 54.6875 \r\nL 18.40625 54.6875 \r\nL 18.40625 0 \r\nL 9.421875 0 \r\nz\r\nM 9.421875 75.984375 \r\nL 18.40625 75.984375 \r\nL 18.40625 64.59375 \r\nL 9.421875 64.59375 \r\nz\r\n\" id=\"DejaVuSans-105\"/>\r\n       <path d=\"M 48.78125 52.59375 \r\nL 48.78125 44.1875 \r\nQ 44.96875 46.296875 41.140625 47.34375 \r\nQ 37.3125 48.390625 33.40625 48.390625 \r\nQ 24.65625 48.390625 19.8125 42.84375 \r\nQ 14.984375 37.3125 14.984375 27.296875 \r\nQ 14.984375 17.28125 19.8125 11.734375 \r\nQ 24.65625 6.203125 33.40625 6.203125 \r\nQ 37.3125 6.203125 41.140625 7.25 \r\nQ 44.96875 8.296875 48.78125 10.40625 \r\nL 48.78125 2.09375 \r\nQ 45.015625 0.34375 40.984375 -0.53125 \r\nQ 36.96875 -1.421875 32.421875 -1.421875 \r\nQ 20.0625 -1.421875 12.78125 6.34375 \r\nQ 5.515625 14.109375 5.515625 27.296875 \r\nQ 5.515625 40.671875 12.859375 48.328125 \r\nQ 20.21875 56 33.015625 56 \r\nQ 37.15625 56 41.109375 55.140625 \r\nQ 45.0625 54.296875 48.78125 52.59375 \r\nz\r\n\" id=\"DejaVuSans-99\"/>\r\n       <path d=\"M 9.421875 75.984375 \r\nL 18.40625 75.984375 \r\nL 18.40625 0 \r\nL 9.421875 0 \r\nz\r\n\" id=\"DejaVuSans-108\"/>\r\n       <path d=\"M 50.984375 -16.609375 \r\nL 50.984375 -23.578125 \r\nL -0.984375 -23.578125 \r\nL -0.984375 -16.609375 \r\nz\r\n\" id=\"DejaVuSans-95\"/>\r\n       <path d=\"M 18.3125 70.21875 \r\nL 18.3125 54.6875 \r\nL 36.8125 54.6875 \r\nL 36.8125 47.703125 \r\nL 18.3125 47.703125 \r\nL 18.3125 18.015625 \r\nQ 18.3125 11.328125 20.140625 9.421875 \r\nQ 21.96875 7.515625 27.59375 7.515625 \r\nL 36.8125 7.515625 \r\nL 36.8125 0 \r\nL 27.59375 0 \r\nQ 17.1875 0 13.234375 3.875 \r\nQ 9.28125 7.765625 9.28125 18.015625 \r\nL 9.28125 47.703125 \r\nL 2.6875 47.703125 \r\nL 2.6875 54.6875 \r\nL 9.28125 54.6875 \r\nL 9.28125 70.21875 \r\nz\r\n\" id=\"DejaVuSans-116\"/>\r\n       <path d=\"M 32.171875 -5.078125 \r\nQ 28.375 -14.84375 24.75 -17.8125 \r\nQ 21.140625 -20.796875 15.09375 -20.796875 \r\nL 7.90625 -20.796875 \r\nL 7.90625 -13.28125 \r\nL 13.1875 -13.28125 \r\nQ 16.890625 -13.28125 18.9375 -11.515625 \r\nQ 21 -9.765625 23.484375 -3.21875 \r\nL 25.09375 0.875 \r\nL 2.984375 54.6875 \r\nL 12.5 54.6875 \r\nL 29.59375 11.921875 \r\nL 46.6875 54.6875 \r\nL 56.203125 54.6875 \r\nz\r\n\" id=\"DejaVuSans-121\"/>\r\n       <path d=\"M 18.109375 8.203125 \r\nL 18.109375 -20.796875 \r\nL 9.078125 -20.796875 \r\nL 9.078125 54.6875 \r\nL 18.109375 54.6875 \r\nL 18.109375 46.390625 \r\nQ 20.953125 51.265625 25.265625 53.625 \r\nQ 29.59375 56 35.59375 56 \r\nQ 45.5625 56 51.78125 48.09375 \r\nQ 58.015625 40.1875 58.015625 27.296875 \r\nQ 58.015625 14.40625 51.78125 6.484375 \r\nQ 45.5625 -1.421875 35.59375 -1.421875 \r\nQ 29.59375 -1.421875 25.265625 0.953125 \r\nQ 20.953125 3.328125 18.109375 8.203125 \r\nz\r\nM 48.6875 27.296875 \r\nQ 48.6875 37.203125 44.609375 42.84375 \r\nQ 40.53125 48.484375 33.40625 48.484375 \r\nQ 26.265625 48.484375 22.1875 42.84375 \r\nQ 18.109375 37.203125 18.109375 27.296875 \r\nQ 18.109375 17.390625 22.1875 11.75 \r\nQ 26.265625 6.109375 33.40625 6.109375 \r\nQ 40.53125 6.109375 44.609375 11.75 \r\nQ 48.6875 17.390625 48.6875 27.296875 \r\nz\r\n\" id=\"DejaVuSans-112\"/>\r\n      </defs>\r\n      <use xlink:href=\"#DejaVuSans-86\"/>\r\n      <use x=\"60.658203\" xlink:href=\"#DejaVuSans-101\"/>\r\n      <use x=\"122.181641\" xlink:href=\"#DejaVuSans-104\"/>\r\n      <use x=\"185.560547\" xlink:href=\"#DejaVuSans-105\"/>\r\n      <use x=\"213.34375\" xlink:href=\"#DejaVuSans-99\"/>\r\n      <use x=\"268.324219\" xlink:href=\"#DejaVuSans-108\"/>\r\n      <use x=\"296.107422\" xlink:href=\"#DejaVuSans-101\"/>\r\n      <use x=\"357.630859\" xlink:href=\"#DejaVuSans-95\"/>\r\n      <use x=\"407.630859\" xlink:href=\"#DejaVuSans-116\"/>\r\n      <use x=\"446.839844\" xlink:href=\"#DejaVuSans-121\"/>\r\n      <use x=\"506.019531\" xlink:href=\"#DejaVuSans-112\"/>\r\n      <use x=\"569.496094\" xlink:href=\"#DejaVuSans-101\"/>\r\n     </g>\r\n    </g>\r\n   </g>\r\n   <g id=\"matplotlib.axis_2\">\r\n    <g id=\"ytick_1\">\r\n     <g id=\"line2d_3\">\r\n      <defs>\r\n       <path d=\"M 0 0 \r\nL -3.5 0 \r\n\" id=\"m8fcd074dd3\" style=\"stroke:#000000;stroke-width:0.8;\"/>\r\n      </defs>\r\n      <g>\r\n       <use style=\"stroke:#000000;stroke-width:0.8;\" x=\"46.965625\" xlink:href=\"#m8fcd074dd3\" y=\"225.22582\"/>\r\n      </g>\r\n     </g>\r\n     <g id=\"text_4\">\r\n      <!-- 0 -->\r\n      <g transform=\"translate(33.603125 229.025038)scale(0.1 -0.1)\">\r\n       <defs>\r\n        <path d=\"M 31.78125 66.40625 \r\nQ 24.171875 66.40625 20.328125 58.90625 \r\nQ 16.5 51.421875 16.5 36.375 \r\nQ 16.5 21.390625 20.328125 13.890625 \r\nQ 24.171875 6.390625 31.78125 6.390625 \r\nQ 39.453125 6.390625 43.28125 13.890625 \r\nQ 47.125 21.390625 47.125 36.375 \r\nQ 47.125 51.421875 43.28125 58.90625 \r\nQ 39.453125 66.40625 31.78125 66.40625 \r\nz\r\nM 31.78125 74.21875 \r\nQ 44.046875 74.21875 50.515625 64.515625 \r\nQ 56.984375 54.828125 56.984375 36.375 \r\nQ 56.984375 17.96875 50.515625 8.265625 \r\nQ 44.046875 -1.421875 31.78125 -1.421875 \r\nQ 19.53125 -1.421875 13.0625 8.265625 \r\nQ 6.59375 17.96875 6.59375 36.375 \r\nQ 6.59375 54.828125 13.0625 64.515625 \r\nQ 19.53125 74.21875 31.78125 74.21875 \r\nz\r\n\" id=\"DejaVuSans-48\"/>\r\n       </defs>\r\n       <use xlink:href=\"#DejaVuSans-48\"/>\r\n      </g>\r\n     </g>\r\n    </g>\r\n    <g id=\"ytick_2\">\r\n     <g id=\"line2d_4\">\r\n      <g>\r\n       <use style=\"stroke:#000000;stroke-width:0.8;\" x=\"46.965625\" xlink:href=\"#m8fcd074dd3\" y=\"189.521386\"/>\r\n      </g>\r\n     </g>\r\n     <g id=\"text_5\">\r\n      <!-- 20 -->\r\n      <g transform=\"translate(27.240625 193.320605)scale(0.1 -0.1)\">\r\n       <defs>\r\n        <path d=\"M 19.1875 8.296875 \r\nL 53.609375 8.296875 \r\nL 53.609375 0 \r\nL 7.328125 0 \r\nL 7.328125 8.296875 \r\nQ 12.9375 14.109375 22.625 23.890625 \r\nQ 32.328125 33.6875 34.8125 36.53125 \r\nQ 39.546875 41.84375 41.421875 45.53125 \r\nQ 43.3125 49.21875 43.3125 52.78125 \r\nQ 43.3125 58.59375 39.234375 62.25 \r\nQ 35.15625 65.921875 28.609375 65.921875 \r\nQ 23.96875 65.921875 18.8125 64.3125 \r\nQ 13.671875 62.703125 7.8125 59.421875 \r\nL 7.8125 69.390625 \r\nQ 13.765625 71.78125 18.9375 73 \r\nQ 24.125 74.21875 28.421875 74.21875 \r\nQ 39.75 74.21875 46.484375 68.546875 \r\nQ 53.21875 62.890625 53.21875 53.421875 \r\nQ 53.21875 48.921875 51.53125 44.890625 \r\nQ 49.859375 40.875 45.40625 35.40625 \r\nQ 44.1875 33.984375 37.640625 27.21875 \r\nQ 31.109375 20.453125 19.1875 8.296875 \r\nz\r\n\" id=\"DejaVuSans-50\"/>\r\n       </defs>\r\n       <use xlink:href=\"#DejaVuSans-50\"/>\r\n       <use x=\"63.623047\" xlink:href=\"#DejaVuSans-48\"/>\r\n      </g>\r\n     </g>\r\n    </g>\r\n    <g id=\"ytick_3\">\r\n     <g id=\"line2d_5\">\r\n      <g>\r\n       <use style=\"stroke:#000000;stroke-width:0.8;\" x=\"46.965625\" xlink:href=\"#m8fcd074dd3\" y=\"153.816953\"/>\r\n      </g>\r\n     </g>\r\n     <g id=\"text_6\">\r\n      <!-- 40 -->\r\n      <g transform=\"translate(27.240625 157.616171)scale(0.1 -0.1)\">\r\n       <defs>\r\n        <path d=\"M 37.796875 64.3125 \r\nL 12.890625 25.390625 \r\nL 37.796875 25.390625 \r\nz\r\nM 35.203125 72.90625 \r\nL 47.609375 72.90625 \r\nL 47.609375 25.390625 \r\nL 58.015625 25.390625 \r\nL 58.015625 17.1875 \r\nL 47.609375 17.1875 \r\nL 47.609375 0 \r\nL 37.796875 0 \r\nL 37.796875 17.1875 \r\nL 4.890625 17.1875 \r\nL 4.890625 26.703125 \r\nz\r\n\" id=\"DejaVuSans-52\"/>\r\n       </defs>\r\n       <use xlink:href=\"#DejaVuSans-52\"/>\r\n       <use x=\"63.623047\" xlink:href=\"#DejaVuSans-48\"/>\r\n      </g>\r\n     </g>\r\n    </g>\r\n    <g id=\"ytick_4\">\r\n     <g id=\"line2d_6\">\r\n      <g>\r\n       <use style=\"stroke:#000000;stroke-width:0.8;\" x=\"46.965625\" xlink:href=\"#m8fcd074dd3\" y=\"118.112519\"/>\r\n      </g>\r\n     </g>\r\n     <g id=\"text_7\">\r\n      <!-- 60 -->\r\n      <g transform=\"translate(27.240625 121.911738)scale(0.1 -0.1)\">\r\n       <defs>\r\n        <path d=\"M 33.015625 40.375 \r\nQ 26.375 40.375 22.484375 35.828125 \r\nQ 18.609375 31.296875 18.609375 23.390625 \r\nQ 18.609375 15.53125 22.484375 10.953125 \r\nQ 26.375 6.390625 33.015625 6.390625 \r\nQ 39.65625 6.390625 43.53125 10.953125 \r\nQ 47.40625 15.53125 47.40625 23.390625 \r\nQ 47.40625 31.296875 43.53125 35.828125 \r\nQ 39.65625 40.375 33.015625 40.375 \r\nz\r\nM 52.59375 71.296875 \r\nL 52.59375 62.3125 \r\nQ 48.875 64.0625 45.09375 64.984375 \r\nQ 41.3125 65.921875 37.59375 65.921875 \r\nQ 27.828125 65.921875 22.671875 59.328125 \r\nQ 17.53125 52.734375 16.796875 39.40625 \r\nQ 19.671875 43.65625 24.015625 45.921875 \r\nQ 28.375 48.1875 33.59375 48.1875 \r\nQ 44.578125 48.1875 50.953125 41.515625 \r\nQ 57.328125 34.859375 57.328125 23.390625 \r\nQ 57.328125 12.15625 50.6875 5.359375 \r\nQ 44.046875 -1.421875 33.015625 -1.421875 \r\nQ 20.359375 -1.421875 13.671875 8.265625 \r\nQ 6.984375 17.96875 6.984375 36.375 \r\nQ 6.984375 53.65625 15.1875 63.9375 \r\nQ 23.390625 74.21875 37.203125 74.21875 \r\nQ 40.921875 74.21875 44.703125 73.484375 \r\nQ 48.484375 72.75 52.59375 71.296875 \r\nz\r\n\" id=\"DejaVuSans-54\"/>\r\n       </defs>\r\n       <use xlink:href=\"#DejaVuSans-54\"/>\r\n       <use x=\"63.623047\" xlink:href=\"#DejaVuSans-48\"/>\r\n      </g>\r\n     </g>\r\n    </g>\r\n    <g id=\"ytick_5\">\r\n     <g id=\"line2d_7\">\r\n      <g>\r\n       <use style=\"stroke:#000000;stroke-width:0.8;\" x=\"46.965625\" xlink:href=\"#m8fcd074dd3\" y=\"82.408086\"/>\r\n      </g>\r\n     </g>\r\n     <g id=\"text_8\">\r\n      <!-- 80 -->\r\n      <g transform=\"translate(27.240625 86.207304)scale(0.1 -0.1)\">\r\n       <defs>\r\n        <path d=\"M 31.78125 34.625 \r\nQ 24.75 34.625 20.71875 30.859375 \r\nQ 16.703125 27.09375 16.703125 20.515625 \r\nQ 16.703125 13.921875 20.71875 10.15625 \r\nQ 24.75 6.390625 31.78125 6.390625 \r\nQ 38.8125 6.390625 42.859375 10.171875 \r\nQ 46.921875 13.96875 46.921875 20.515625 \r\nQ 46.921875 27.09375 42.890625 30.859375 \r\nQ 38.875 34.625 31.78125 34.625 \r\nz\r\nM 21.921875 38.8125 \r\nQ 15.578125 40.375 12.03125 44.71875 \r\nQ 8.5 49.078125 8.5 55.328125 \r\nQ 8.5 64.0625 14.71875 69.140625 \r\nQ 20.953125 74.21875 31.78125 74.21875 \r\nQ 42.671875 74.21875 48.875 69.140625 \r\nQ 55.078125 64.0625 55.078125 55.328125 \r\nQ 55.078125 49.078125 51.53125 44.71875 \r\nQ 48 40.375 41.703125 38.8125 \r\nQ 48.828125 37.15625 52.796875 32.3125 \r\nQ 56.78125 27.484375 56.78125 20.515625 \r\nQ 56.78125 9.90625 50.3125 4.234375 \r\nQ 43.84375 -1.421875 31.78125 -1.421875 \r\nQ 19.734375 -1.421875 13.25 4.234375 \r\nQ 6.78125 9.90625 6.78125 20.515625 \r\nQ 6.78125 27.484375 10.78125 32.3125 \r\nQ 14.796875 37.15625 21.921875 38.8125 \r\nz\r\nM 18.3125 54.390625 \r\nQ 18.3125 48.734375 21.84375 45.5625 \r\nQ 25.390625 42.390625 31.78125 42.390625 \r\nQ 38.140625 42.390625 41.71875 45.5625 \r\nQ 45.3125 48.734375 45.3125 54.390625 \r\nQ 45.3125 60.0625 41.71875 63.234375 \r\nQ 38.140625 66.40625 31.78125 66.40625 \r\nQ 25.390625 66.40625 21.84375 63.234375 \r\nQ 18.3125 60.0625 18.3125 54.390625 \r\nz\r\n\" id=\"DejaVuSans-56\"/>\r\n       </defs>\r\n       <use xlink:href=\"#DejaVuSans-56\"/>\r\n       <use x=\"63.623047\" xlink:href=\"#DejaVuSans-48\"/>\r\n      </g>\r\n     </g>\r\n    </g>\r\n    <g id=\"ytick_6\">\r\n     <g id=\"line2d_8\">\r\n      <g>\r\n       <use style=\"stroke:#000000;stroke-width:0.8;\" x=\"46.965625\" xlink:href=\"#m8fcd074dd3\" y=\"46.703652\"/>\r\n      </g>\r\n     </g>\r\n     <g id=\"text_9\">\r\n      <!-- 100 -->\r\n      <g transform=\"translate(20.878125 50.502871)scale(0.1 -0.1)\">\r\n       <defs>\r\n        <path d=\"M 12.40625 8.296875 \r\nL 28.515625 8.296875 \r\nL 28.515625 63.921875 \r\nL 10.984375 60.40625 \r\nL 10.984375 69.390625 \r\nL 28.421875 72.90625 \r\nL 38.28125 72.90625 \r\nL 38.28125 8.296875 \r\nL 54.390625 8.296875 \r\nL 54.390625 0 \r\nL 12.40625 0 \r\nz\r\n\" id=\"DejaVuSans-49\"/>\r\n       </defs>\r\n       <use xlink:href=\"#DejaVuSans-49\"/>\r\n       <use x=\"63.623047\" xlink:href=\"#DejaVuSans-48\"/>\r\n       <use x=\"127.246094\" xlink:href=\"#DejaVuSans-48\"/>\r\n      </g>\r\n     </g>\r\n    </g>\r\n    <g id=\"ytick_7\">\r\n     <g id=\"line2d_9\">\r\n      <g>\r\n       <use style=\"stroke:#000000;stroke-width:0.8;\" x=\"46.965625\" xlink:href=\"#m8fcd074dd3\" y=\"10.999219\"/>\r\n      </g>\r\n     </g>\r\n     <g id=\"text_10\">\r\n      <!-- 120 -->\r\n      <g transform=\"translate(20.878125 14.798437)scale(0.1 -0.1)\">\r\n       <use xlink:href=\"#DejaVuSans-49\"/>\r\n       <use x=\"63.623047\" xlink:href=\"#DejaVuSans-50\"/>\r\n       <use x=\"127.246094\" xlink:href=\"#DejaVuSans-48\"/>\r\n      </g>\r\n     </g>\r\n    </g>\r\n    <g id=\"text_11\">\r\n     <!-- count -->\r\n     <g transform=\"translate(14.798438 130.61207)rotate(-90)scale(0.1 -0.1)\">\r\n      <defs>\r\n       <path d=\"M 30.609375 48.390625 \r\nQ 23.390625 48.390625 19.1875 42.75 \r\nQ 14.984375 37.109375 14.984375 27.296875 \r\nQ 14.984375 17.484375 19.15625 11.84375 \r\nQ 23.34375 6.203125 30.609375 6.203125 \r\nQ 37.796875 6.203125 41.984375 11.859375 \r\nQ 46.1875 17.53125 46.1875 27.296875 \r\nQ 46.1875 37.015625 41.984375 42.703125 \r\nQ 37.796875 48.390625 30.609375 48.390625 \r\nz\r\nM 30.609375 56 \r\nQ 42.328125 56 49.015625 48.375 \r\nQ 55.71875 40.765625 55.71875 27.296875 \r\nQ 55.71875 13.875 49.015625 6.21875 \r\nQ 42.328125 -1.421875 30.609375 -1.421875 \r\nQ 18.84375 -1.421875 12.171875 6.21875 \r\nQ 5.515625 13.875 5.515625 27.296875 \r\nQ 5.515625 40.765625 12.171875 48.375 \r\nQ 18.84375 56 30.609375 56 \r\nz\r\n\" id=\"DejaVuSans-111\"/>\r\n       <path d=\"M 8.5 21.578125 \r\nL 8.5 54.6875 \r\nL 17.484375 54.6875 \r\nL 17.484375 21.921875 \r\nQ 17.484375 14.15625 20.5 10.265625 \r\nQ 23.53125 6.390625 29.59375 6.390625 \r\nQ 36.859375 6.390625 41.078125 11.03125 \r\nQ 45.3125 15.671875 45.3125 23.6875 \r\nL 45.3125 54.6875 \r\nL 54.296875 54.6875 \r\nL 54.296875 0 \r\nL 45.3125 0 \r\nL 45.3125 8.40625 \r\nQ 42.046875 3.421875 37.71875 1 \r\nQ 33.40625 -1.421875 27.6875 -1.421875 \r\nQ 18.265625 -1.421875 13.375 4.4375 \r\nQ 8.5 10.296875 8.5 21.578125 \r\nz\r\nM 31.109375 56 \r\nz\r\n\" id=\"DejaVuSans-117\"/>\r\n      </defs>\r\n      <use xlink:href=\"#DejaVuSans-99\"/>\r\n      <use x=\"54.980469\" xlink:href=\"#DejaVuSans-111\"/>\r\n      <use x=\"116.162109\" xlink:href=\"#DejaVuSans-117\"/>\r\n      <use x=\"179.541016\" xlink:href=\"#DejaVuSans-110\"/>\r\n      <use x=\"242.919922\" xlink:href=\"#DejaVuSans-116\"/>\r\n     </g>\r\n    </g>\r\n   </g>\r\n   <g id=\"patch_5\">\r\n    <path d=\"M 46.965625 225.22582 \r\nL 46.965625 7.78582 \r\n\" style=\"fill:none;stroke:#000000;stroke-linecap:square;stroke-linejoin:miter;stroke-width:0.8;\"/>\r\n   </g>\r\n   <g id=\"patch_6\">\r\n    <path d=\"M 381.765625 225.22582 \r\nL 381.765625 7.78582 \r\n\" style=\"fill:none;stroke:#000000;stroke-linecap:square;stroke-linejoin:miter;stroke-width:0.8;\"/>\r\n   </g>\r\n   <g id=\"patch_7\">\r\n    <path d=\"M 46.965625 225.22582 \r\nL 381.765625 225.22582 \r\n\" style=\"fill:none;stroke:#000000;stroke-linecap:square;stroke-linejoin:miter;stroke-width:0.8;\"/>\r\n   </g>\r\n   <g id=\"patch_8\">\r\n    <path d=\"M 46.965625 7.78582 \r\nL 381.765625 7.78582 \r\n\" style=\"fill:none;stroke:#000000;stroke-linecap:square;stroke-linejoin:miter;stroke-width:0.8;\"/>\r\n   </g>\r\n  </g>\r\n </g>\r\n <defs>\r\n  <clipPath id=\"pf5dcd5f69e\">\r\n   <rect height=\"217.44\" width=\"334.8\" x=\"46.965625\" y=\"7.78582\"/>\r\n  </clipPath>\r\n </defs>\r\n</svg>\r\n",
      "image/png": "[encoded data removed]"
     },
     "metadata": {
      "needs_background": "light"
     }
    }
   ],
   "source": [
    "#show count of vehicles in every vehicle type. Visualize your output as a graph\n",
    "\n",
    "import seaborn as sns\n",
    "\n",
    "sns.countplot(x=\"Vehicle_type\", data= df)\n"
   ]
  },
  {
   "cell_type": "code",
   "execution_count": null,
   "metadata": {},
   "outputs": [],
   "source": []
  }
 ],
 "metadata": {
  "kernelspec": {
   "name": "python3",
   "display_name": "Python 3.9.2 64-bit",
   "metadata": {
    "interpreter": {
     "hash": "f73c071220164bb5b21d81fd30dabdff9b75a1a927176b89459ffa61eed25519"
    }
   }
  },
  "language_info": {
   "codemirror_mode": {
    "name": "ipython",
    "version": 3
   },
   "file_extension": ".py",
   "mimetype": "text/x-python",
   "name": "python",
   "nbconvert_exporter": "python",
   "pygments_lexer": "ipython3",
   "version": "3.9.2-final"
  }
 },
 "nbformat": 4,
 "nbformat_minor": 4
}